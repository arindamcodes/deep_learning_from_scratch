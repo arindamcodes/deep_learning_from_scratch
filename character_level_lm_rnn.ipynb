{
 "cells": [
  {
   "cell_type": "code",
   "execution_count": 26,
   "metadata": {},
   "outputs": [],
   "source": [
    "import torch\n",
    "import torch.nn as nn\n",
    "import torch.optim as optim\n",
    "import torch.nn.functional as F"
   ]
  },
  {
   "cell_type": "code",
   "execution_count": 27,
   "metadata": {},
   "outputs": [],
   "source": [
    "class CustomRNNCell(nn.Module):\n",
    "    def __init__(self, input_size, hidden_size, output_size):\n",
    "        super(CustomRNNCell, self).__init__()\n",
    "        self.hidden_size = hidden_size\n",
    "        self.Wxh = nn.Parameter(torch.randn(hidden_size, input_size) * 0.01)\n",
    "        self.Whh = nn.Parameter(torch.randn(hidden_size, hidden_size) * 0.01)\n",
    "        self.Why = nn.Parameter(torch.randn(output_size, hidden_size) * 0.01)\n",
    "        self.bh = nn.Parameter(torch.zeros(hidden_size, 1))\n",
    "        self.by = nn.Parameter(torch.zeros(output_size, 1))\n",
    "\n",
    "    def forward(self, x, h):\n",
    "        h = torch.tanh(self.Wxh @ x + self.Whh @ h + self.bh)\n",
    "        y = self.Why @ h + self.by\n",
    "        return y, h"
   ]
  },
  {
   "cell_type": "code",
   "execution_count": 28,
   "metadata": {},
   "outputs": [],
   "source": [
    "import numpy as np\n",
    "from nltk.corpus import gutenberg\n",
    "\n",
    "# Load and preprocess data\n",
    "corpus = gutenberg.raw('shakespeare-hamlet.txt').lower()  # Use a different text if desired\n",
    "chars = list(set(corpus))\n",
    "char_to_index = {char: i for i, char in enumerate(chars)}\n",
    "index_to_char = {i: char for char, i in char_to_index.items()}\n",
    "num_chars = len(chars)\n",
    "\n",
    "# Convert the text to a sequence of indices\n",
    "corpus_indices = [char_to_index[char] for char in corpus]"
   ]
  },
  {
   "cell_type": "code",
   "execution_count": 35,
   "metadata": {},
   "outputs": [],
   "source": [
    "corpus_indices = corpus_indices[:2000]"
   ]
  },
  {
   "cell_type": "code",
   "execution_count": 36,
   "metadata": {},
   "outputs": [],
   "source": [
    "input_size = num_chars\n",
    "hidden_size = 128\n",
    "output_size = num_chars\n",
    "seq_length = 20\n",
    "num_epochs = 100\n",
    "learning_rate = 0.001"
   ]
  },
  {
   "cell_type": "code",
   "execution_count": 37,
   "metadata": {},
   "outputs": [],
   "source": [
    "rnn = CustomRNNCell(input_size, hidden_size, output_size)"
   ]
  },
  {
   "cell_type": "code",
   "execution_count": 38,
   "metadata": {},
   "outputs": [],
   "source": [
    "criterion = nn.CrossEntropyLoss()\n",
    "optimizer = torch.optim.Adam(rnn.parameters(), lr=learning_rate)\n"
   ]
  },
  {
   "cell_type": "code",
   "execution_count": 42,
   "metadata": {},
   "outputs": [
    {
     "name": "stdout",
     "output_type": "stream",
     "text": [
      "Epoch [1/100], Loss: 511.46358420792967\n",
      "Epoch [2/100], Loss: 510.81390369683504\n",
      "Epoch [3/100], Loss: 510.1671797679737\n",
      "Epoch [4/100], Loss: 509.524298442062\n",
      "Epoch [5/100], Loss: 508.88551524700597\n",
      "Epoch [6/100], Loss: 508.25104096066207\n",
      "Epoch [7/100], Loss: 507.62266592122614\n",
      "Epoch [8/100], Loss: 506.99793858639896\n",
      "Epoch [9/100], Loss: 506.38321847561747\n",
      "Epoch [10/100], Loss: 505.7706372104585\n",
      "Epoch [11/100], Loss: 505.17413205094635\n",
      "Epoch [12/100], Loss: 504.58236853266135\n",
      "Epoch [13/100], Loss: 503.9970304099843\n",
      "Epoch [14/100], Loss: 503.4666343978606\n",
      "Epoch [15/100], Loss: 502.84545140573755\n",
      "Epoch [16/100], Loss: 502.541098265443\n",
      "Epoch [17/100], Loss: 501.77700535720214\n",
      "Epoch [18/100], Loss: 501.6934882667847\n",
      "Epoch [19/100], Loss: 501.10756563348696\n",
      "Epoch [20/100], Loss: 500.661105458159\n",
      "Epoch [21/100], Loss: 500.5196637287736\n",
      "Epoch [22/100], Loss: 499.887049079407\n",
      "Epoch [23/100], Loss: 499.19629745790735\n",
      "Epoch [24/100], Loss: 498.09428565436974\n",
      "Epoch [25/100], Loss: 497.66822404554114\n",
      "Epoch [26/100], Loss: 497.1433607493527\n",
      "Epoch [27/100], Loss: 496.7008523847908\n",
      "Epoch [28/100], Loss: 496.00172875029966\n",
      "Epoch [29/100], Loss: 496.16654069023207\n",
      "Epoch [30/100], Loss: 495.4745771079324\n",
      "Epoch [31/100], Loss: 495.1188490674831\n",
      "Epoch [32/100], Loss: 494.76567834382877\n",
      "Epoch [33/100], Loss: 494.28492124937475\n",
      "Epoch [34/100], Loss: 493.98503531422466\n",
      "Epoch [35/100], Loss: 493.5141020473093\n",
      "Epoch [36/100], Loss: 493.13930446328595\n",
      "Epoch [37/100], Loss: 492.7860736930743\n",
      "Epoch [38/100], Loss: 492.2564424336888\n",
      "Epoch [39/100], Loss: 491.74682969925925\n",
      "Epoch [40/100], Loss: 491.50046764314175\n",
      "Epoch [41/100], Loss: 490.9482837128453\n",
      "Epoch [42/100], Loss: 490.7763622184284\n",
      "Epoch [43/100], Loss: 490.1530670118518\n",
      "Epoch [44/100], Loss: 490.15658605098724\n",
      "Epoch [45/100], Loss: 509.9808443421498\n",
      "Epoch [46/100], Loss: 809.7495944350958\n",
      "Epoch [47/100], Loss: 747.805523019284\n",
      "Epoch [48/100], Loss: 539.8065699934959\n",
      "Epoch [49/100], Loss: 489.33728387765586\n",
      "Epoch [50/100], Loss: 481.0891906749457\n",
      "Epoch [51/100], Loss: 479.228847367689\n",
      "Epoch [52/100], Loss: 478.51877366006374\n",
      "Epoch [53/100], Loss: 478.35140038561076\n",
      "Epoch [54/100], Loss: 478.40765034686774\n",
      "Epoch [55/100], Loss: 478.58705013245344\n",
      "Epoch [56/100], Loss: 478.8504659375176\n",
      "Epoch [57/100], Loss: 479.1494543766603\n",
      "Epoch [58/100], Loss: 479.47773981746286\n",
      "Epoch [59/100], Loss: 479.8224057862535\n",
      "Epoch [60/100], Loss: 480.1839704364538\n",
      "Epoch [61/100], Loss: 480.55782799609005\n",
      "Epoch [62/100], Loss: 480.9404645450413\n",
      "Epoch [63/100], Loss: 481.3271888298914\n",
      "Epoch [64/100], Loss: 481.7130145202391\n",
      "Epoch [65/100], Loss: 482.09394391067326\n",
      "Epoch [66/100], Loss: 482.45969350542873\n",
      "Epoch [67/100], Loss: 482.8048747354187\n",
      "Epoch [68/100], Loss: 483.1277318778448\n",
      "Epoch [69/100], Loss: 483.4189118812792\n",
      "Epoch [70/100], Loss: 483.726546252612\n",
      "Epoch [71/100], Loss: 483.9395438642241\n",
      "Epoch [72/100], Loss: 484.21364396298304\n",
      "Epoch [73/100], Loss: 485.4997160783969\n",
      "Epoch [74/100], Loss: 484.93229638179764\n",
      "Epoch [75/100], Loss: 486.65704198135063\n",
      "Epoch [76/100], Loss: 487.2230093232356\n",
      "Epoch [77/100], Loss: 485.25033055245876\n",
      "Epoch [78/100], Loss: 484.736135261599\n",
      "Epoch [79/100], Loss: 484.7295517665334\n",
      "Epoch [80/100], Loss: 484.3817261850927\n",
      "Epoch [81/100], Loss: 484.48454051138833\n",
      "Epoch [82/100], Loss: 484.1408767173998\n",
      "Epoch [83/100], Loss: 484.2424741364084\n",
      "Epoch [84/100], Loss: 483.8729382662568\n",
      "Epoch [85/100], Loss: 483.8870692169294\n",
      "Epoch [86/100], Loss: 483.69933782471344\n",
      "Epoch [87/100], Loss: 483.3252246999182\n",
      "Epoch [88/100], Loss: 483.43503882549703\n",
      "Epoch [89/100], Loss: 482.7657345884945\n",
      "Epoch [90/100], Loss: 483.30144120170735\n",
      "Epoch [91/100], Loss: 483.1147178662941\n",
      "Epoch [92/100], Loss: 482.58384867571294\n",
      "Epoch [93/100], Loss: 481.9536003060639\n",
      "Epoch [94/100], Loss: 481.67969555431046\n",
      "Epoch [95/100], Loss: 481.49018752155825\n",
      "Epoch [96/100], Loss: 481.3660293959547\n",
      "Epoch [97/100], Loss: 481.2271794753615\n",
      "Epoch [98/100], Loss: 480.67584287235513\n",
      "Epoch [99/100], Loss: 480.87649267935194\n",
      "Epoch [100/100], Loss: 480.2910247580148\n"
     ]
    }
   ],
   "source": [
    "for epoch in range(num_epochs):\n",
    "    h = torch.zeros(hidden_size, 1)\n",
    "    loss_sum = 0\n",
    "    for i in range(0, len(corpus_indices) - seq_length):\n",
    "        inputs = torch.tensor(corpus_indices[i:i+seq_length], dtype=torch.long).view(-1, 1)\n",
    "        targets = torch.tensor(corpus_indices[i+1:i+seq_length+1], dtype=torch.long).view(-1)\n",
    "\n",
    "        optimizer.zero_grad()\n",
    "        h = torch.zeros(hidden_size, 1)  # Initialize hidden state\n",
    "        loss = 0\n",
    "\n",
    "        for j in range(seq_length):\n",
    "            x = torch.zeros(input_size, 1)\n",
    "            x[inputs[j].item()] = 1\n",
    "            y, h = rnn(x.clone(), h.clone())  # Clone input and hidden state\n",
    "            loss += criterion(y.view(1, -1), targets[j].view(1))\n",
    "\n",
    "        loss.backward(retain_graph=True)\n",
    "        optimizer.step()\n",
    "        loss_sum += loss.item()\n",
    "\n",
    "    print(f'Epoch [{epoch+1}/{num_epochs}], Loss: {loss_sum}')\n"
   ]
  },
  {
   "cell_type": "code",
   "execution_count": 46,
   "metadata": {},
   "outputs": [
    {
     "name": "stdout",
     "output_type": "stream",
     "text": [
      "the t\n"
     ]
    }
   ],
   "source": [
    "with torch.no_grad():\n",
    "    start_char = \"t\"  # Starting character for text generation\n",
    "    input_char = torch.tensor(char_to_index[start_char], dtype=torch.long).view(-1, 1)\n",
    "    h = torch.zeros(hidden_size, 1)\n",
    "\n",
    "    generated_text = start_char\n",
    "\n",
    "    for _ in range(4):\n",
    "        x = torch.zeros(input_size, 1)\n",
    "        x[input_char.item()] = 1\n",
    "        y, h = rnn(x.clone(), h.clone())\n",
    "        probabilities = torch.softmax(y, dim=0).squeeze().numpy()\n",
    "        next_char_index = np.random.choice(range(num_chars), p=probabilities)\n",
    "        next_char = index_to_char[next_char_index]\n",
    "        generated_text += next_char\n",
    "        input_char = torch.tensor(next_char_index, dtype=torch.long).view(-1, 1)\n",
    "\n",
    "    print(generated_text)"
   ]
  },
  {
   "cell_type": "code",
   "execution_count": null,
   "metadata": {},
   "outputs": [],
   "source": []
  }
 ],
 "metadata": {
  "kernelspec": {
   "display_name": "py310",
   "language": "python",
   "name": "py310"
  },
  "language_info": {
   "codemirror_mode": {
    "name": "ipython",
    "version": 3
   },
   "file_extension": ".py",
   "mimetype": "text/x-python",
   "name": "python",
   "nbconvert_exporter": "python",
   "pygments_lexer": "ipython3",
   "version": "3.10.11"
  }
 },
 "nbformat": 4,
 "nbformat_minor": 2
}
